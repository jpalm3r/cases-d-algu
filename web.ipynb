{
 "cells": [
  {
   "cell_type": "markdown",
   "metadata": {},
   "source": [
    "# CASES D'ALGÚ\n",
    "\n"
   ]
  },
  {
   "cell_type": "markdown",
   "metadata": {},
   "source": [
    "![choropleth](./figs/choros_transparent.png)"
   ]
  },
  {
   "cell_type": "markdown",
   "metadata": {},
   "source": []
  },
  {
   "cell_type": "markdown",
   "metadata": {},
   "source": [
    "![places100persones](./figs/figure_vp100p.png)"
   ]
  },
  {
   "cell_type": "markdown",
   "metadata": {},
   "source": []
  },
  {
   "cell_type": "markdown",
   "metadata": {},
   "source": [
    "![diferencia_places_poblacio](./figs/figure_diff.png)"
   ]
  },
  {
   "cell_type": "markdown",
   "metadata": {},
   "source": []
  },
  {
   "cell_type": "markdown",
   "metadata": {},
   "source": [
    "![punts](./figs/figure_punts.png)"
   ]
  },
  {
   "cell_type": "markdown",
   "metadata": {},
   "source": []
  },
  {
   "cell_type": "markdown",
   "metadata": {},
   "source": [
    "| Regió | Places lloguer vac. per 100 hab. | Places hotel per 100 hab. | Densitat de població |\n",
    "| --- | --- | --- | --- |\n",
    "| Llevant | 95.1 | 116.9 | 133.9 |\n",
    "| Migjorn | 51.5 | 78.9 | 99.6 |\n",
    "| Palma | 12.0 | 13.0 | 2010.8 |\n",
    "| Pla | 52.1 | 73.8 | 98.9 |\n",
    "| Raiguer | 20.5 | 33.7 | 334.8 |\n",
    "| Tramuntana | 69.3 | 24.4 | 160.4 |"
   ]
  },
  {
   "cell_type": "markdown",
   "metadata": {},
   "source": []
  },
  {
   "cell_type": "markdown",
   "metadata": {},
   "source": [
    "| Regió | Places lloguer vac. per 100 hab. | Places hotel per 100 hab. | Densitat de població |\n",
    "| --- | --- | --- | --- |\n",
    "| Costa | 42.0 | 11.6 | 306.2 |\n",
    "| Interior | 2.0 | 11.2 | 176.7 |"
   ]
  },
  {
   "cell_type": "markdown",
   "metadata": {},
   "source": [
    "--------------------------------"
   ]
  }
 ],
 "metadata": {
  "kernelspec": {
   "display_name": "Python 3",
   "language": "python",
   "name": "python3"
  },
  "language_info": {
   "codemirror_mode": {
    "name": "ipython",
    "version": 3
   },
   "file_extension": ".py",
   "mimetype": "text/x-python",
   "name": "python",
   "nbconvert_exporter": "python",
   "pygments_lexer": "ipython3",
   "version": "3.7.6"
  }
 },
 "nbformat": 4,
 "nbformat_minor": 4
}
