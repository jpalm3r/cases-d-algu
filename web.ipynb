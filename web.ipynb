{
 "cells": [
  {
   "cell_type": "markdown",
   "metadata": {},
   "source": [
    "\n",
    "<br>\n",
    "\n",
    "<font size=\"90\"><center><b>CASES D'ALGÚ</b></center></font>\n"
   ]
  },
  {
   "cell_type": "markdown",
   "metadata": {},
   "source": [
    "\n",
    "Aquest projecte preten visualitzar l'explotacio turistica a Mallorca. En concret, m'he centrat en mostrar la distribucio de places turistiques al voltant de l'illa.\n",
    "\n",
    "La inspiracio del projecte neix com a combinacio entre la indignacio post-estival i [un tuit fet per n'Aina Ginard](https://twitter.com/terraferida/status/1566781070883930114?s=12&t=tH5yHxOBZJd_qUAKgLVHoA). En el tuit mostrava una mapa de Mallorca amb xifres que mostren com es reparteixen tan les places d'hotel com les places de lloguer turistic pels diferents municipis.\n",
    "\n",
    "El seu estudi subratlla que __a Mallorca existeixen hi ha unes 45 places turistiques per cada 100 habitants__. La dada es impactant per si sola, i serveix com a punt de partida de la resta de l'article.\n",
    "\n",
    "Aquestes 45 places representen han estat calculades tenint en compte la poblacio total de l'illa, aixi com les places turistiques de tot el territori. Si posem el focus als municipis, veiem que algunes zones superen (de molt) la mitjana de l'illa."
   ]
  },
  {
   "cell_type": "markdown",
   "metadata": {},
   "source": [
    "![places100persones](./figs/figure_vp100p.png)"
   ]
  },
  {
   "cell_type": "markdown",
   "metadata": {},
   "source": [
    "Poblacions com Sant Llorenc o Ses Salines mostren valors extrems donada la poca gent censada (~600 i ~900 persones respectivament). Tot i aixi, altres municipis mes poblats com Alcudia o Calvia mostren valors per damunt les 100 places turistiques per 100 habitant.\n",
    "\n",
    "\n",
    "La grafica anterior combina el nombre de places en un municipi i la seva poblacio. Per entendre millor la relacio entre ambdues magnituds, val la pena tornar al mapa de l'illa:"
   ]
  },
  {
   "cell_type": "markdown",
   "metadata": {},
   "source": [
    "![choropleth](./figs/choros_transparent.png)\n"
   ]
  },
  {
   "cell_type": "markdown",
   "metadata": {},
   "source": [
    "El mapa de l'esquerre mostra (tal com va fer el tuit original) la distribucio de places turistiques al territori. Es veu clarament com les places turistiques es concentren al litoral de l'illa. En concret, es veu com Sant Llorenc, Ses Salines i Muro tenen una concentracio de places significativament mes alta que la resta del territori.\n",
    "\n",
    "El mapa de la dreta mostra com es reparteix la poblacio als diferents municipis. Aquest mapa mostra com les arees mes densament poblades estan a l'interior de l'illa. Concretament en la regio que connecta Palma amb Alcudia.\n",
    "\n",
    "El contrast entre els mapes es facil de veure. Tret d'alguna excepcio, els municipis mes densament poblats son precisament els que tenen menys concentracio de places turistiques."
   ]
  },
  {
   "cell_type": "markdown",
   "metadata": {},
   "source": [
    "Com que la densitat de poblacio i places turistiques varia tant al voltant del territori, he volgut donar una perspectiva mes general. Per aixo, per acabar, m'he centrat en les diferents regions de mallorca, aixi com la diferencia entre municipis de costa i interior. A mes, e comptes de fixar-me en el total de places turistiques, he volgut separar entre les places d'hotel i el lloguer vacacional.\n",
    "\n",
    "<br>"
   ]
  },
  {
   "cell_type": "markdown",
   "metadata": {},
   "source": [
    "![punts](./figs/figure_punts_web.png)"
   ]
  },
  {
   "cell_type": "markdown",
   "metadata": {},
   "source": [
    "Cada municipi esta representat per dos punts, com assenyalo amb l'exemple de Muro.\n",
    "\n",
    "Es pot veure com a les regions del Pla i Raiguer, els punts es concentren mes a la part baixa de la grafica. Concretament, ambdues regions mostren poca concentracio de places d'hotel, a excecpcio de Muro, Alcudia i Santa Margalida.\n",
    "\n",
    "Aquesta conclusio es mes facil de veure en la grafica de la dreta, que mostra les concentracions de places turistiques entre costa i interior. A la costa, s'observa una distribucio similar de places de lloguer vacacional i de places d'hotel. A l'interior en canvi, la presencia es molt menor i, de fet, s'hi troben mes places de lloguer que no d'hotel.\n",
    "\n",
    "La grafica anterior esta resumida en la seguent taula:"
   ]
  },
  {
   "cell_type": "markdown",
   "metadata": {},
   "source": [
    "| | Llevant | Migjorn | Palma | Pla | Raiguer | Tramuntana |||| Costa | Interior |\n",
    "| --- | --- | --- | --- | --- | --- | --- | --- | --- | --- | --- | --- |\n",
    "| __Places hotel per 100 hab.__ | 95.1 | 51.5 | 12.0 | 52.1 | 20.5 | 69.3 |||| 42.0 | 2.0 |\n",
    "| __Places lloguer vac. per 100 hab.__ | 21.8 | 27.4 | 1.0 | 21.7 | 13.2 | 24.4 |||| 11.6 | 11.2 |\n",
    "| __Places turistiques per 100 hab.__ | 116.9 | 78.9 | 13.0 | 73.8 | 33.7 | 93.7 |||| 53.6 | 13.2 |"
   ]
  },
  {
   "cell_type": "markdown",
   "metadata": {},
   "source": [
    "Nomes Palma i el Raiguer estan per davall de la mitjana de l'illa. De fet, les altres regions estan molt per sobre. Es interessant veure l'explotacio a la serra de Tramuntana. Les dades no ofereixen cap valor extrem i tot aixi s'arriba al valor de 94 places per cada 100 habitants.\n",
    "\n",
    "Per anar tancant torno a on hem comencat, oferint numeros d'oferta turistica amb una mica mes de detall. He comencat amb les 45 places turistiques per habitant. En aquest petit estudi he mostrat com les dades poden ser encara mes escandaloses.\n",
    "\n",
    "\n",
    "__Fi__"
   ]
  },
  {
   "cell_type": "markdown",
   "metadata": {},
   "source": [
    "--------------------------------"
   ]
  }
 ],
 "metadata": {
  "kernelspec": {
   "display_name": "Python 3",
   "language": "python",
   "name": "python3"
  },
  "language_info": {
   "codemirror_mode": {
    "name": "ipython",
    "version": 3
   },
   "file_extension": ".py",
   "mimetype": "text/x-python",
   "name": "python",
   "nbconvert_exporter": "python",
   "pygments_lexer": "ipython3",
   "version": "3.7.6"
  }
 },
 "nbformat": 4,
 "nbformat_minor": 4
}
