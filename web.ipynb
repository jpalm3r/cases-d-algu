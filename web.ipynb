{
 "cells": [
  {
   "cell_type": "markdown",
   "metadata": {},
   "source": [
    "\n",
    "<br>\n",
    "\n",
    "<font size=\"90\"><center><b>CASES D'ALGÚ</b></center></font>\n",
    "\n",
    "<div style=\"text-align: right\"><b>➫ Autor:</b> Jaume Palmer</div>\n",
    "<div style=\"text-align: right\">(Setembre 2022)</div>\n"
   ]
  },
  {
   "cell_type": "markdown",
   "metadata": {},
   "source": [
    "Aquest projecte pretén visualitzar part la distribució de places turístiques al voltant de Mallorca.\n",
    "\n",
    "La inspiració del projecte neix com a combinació entre una indignació post-estival i aquest [tuit de n'Aina Ginard](https://twitter.com/terraferida/status/1566781070883930114?s=12&t=tH5yHxOBZJd_qUAKgLVHoA) que mostra xifres de com es reparteixen les places turístiques pels diferents municipis. En el seu estudi, n'Aina subratlla que __a Mallorca s'ofereixen 45 places turístiques per cada 100 habitants__. El meu objectiu ha estat endinsar-me una mica més en el que s'amaga darrere aquesta xifra.\n",
    "\n",
    "<br>\n",
    "\n",
    "Les 45 places han estat calculades tenint en compte la població total de l'illa, així com les places turístiques de tot el territori. Per començar, basta posar el focus als municipis per veure que algunes zones ja superen (de molt) la mitjana de l'illa:"
   ]
  },
  {
   "cell_type": "markdown",
   "metadata": {},
   "source": [
    "![places100persones](./figs/figure_vp100p.png)"
   ]
  },
  {
   "cell_type": "markdown",
   "metadata": {},
   "source": [
    "Poblacions com Sant Llorenç o Ses Salines mostren valors extrems donada la poca gent censada (~600 i ~900 persones respectivament). Tot i així, altres municipis més poblats com Alcúdia o Calvià mostren valors per damunt les 100 places turístiques per 100 habitant.\n",
    "\n",
    "\n",
    "Per entendre millor la relació entre el nombre de places en un municipi i la seva població, val la pena tornar al mapa de l'illa:"
   ]
  },
  {
   "cell_type": "markdown",
   "metadata": {},
   "source": [
    "![choropleth](./figs/choros_transparent.png)\n"
   ]
  },
  {
   "cell_type": "markdown",
   "metadata": {},
   "source": [
    "- El mapa de l'esquerra mostra (tal com va fer el tuit original) la distribució de places turístiques al territori. Es veu clarament com la oferta es concentren al litoral de l'illa.\n",
    "\n",
    "- El mapa de la dreta mostra com es reparteix la població als diferents municipis. Aquest mapa mostra com les arees més densament poblades estan a l'interior de l'illa. Concretament en els municipis que connecten Palma amb Alcúdia.\n",
    "\n",
    "El contrast entre els mapes és facil de veure. Tret d'alguna excepció, els municipis més densament poblats son precisament els que tenen menys concentració de places turístiques."
   ]
  },
  {
   "cell_type": "markdown",
   "metadata": {},
   "source": [
    "Com que la densitat de població i places varia tant al voltant del territori, he volgut dividir l'illa en regions més facils de comparar. Per aixo m'he centrat en les diferents regions de Mallorca, així com la diferència entre municipis de costa i interior. Finalment, en comptes de fixar-me en el total de places turístiques, he separat entre les <font color='#ff7d00'>places d'hotel</font> i <font color='#15616d'>places de lloguer vacacional</font>.\n",
    "\n",
    "La seguent gràfica mostra la distribució de places en cada una d'aquestes regions. Cada municipi esta representat per dos punts, com assenyalo amb l'exemple de Muro: el punt <font color='#ff7d00'>taronja</font> assenyala les places hotelers d'un municipi i el punt <font color='#15616d'>blau</font> les seves places de lloguer.\n",
    "\n",
    "<br>"
   ]
  },
  {
   "cell_type": "markdown",
   "metadata": {},
   "source": [
    "![punts](./figs/figure_punts_web.png)"
   ]
  },
  {
   "cell_type": "markdown",
   "metadata": {},
   "source": [
    "Es pot veure com a les regions del Pla i el Raiguer, els punts es concentren a la part baixa de la gràfica. Concretament, ambdues regions mostren poca concentració de places d'hotel, a excecpció de Muro, Alcúdia i Santa Margalida. Les places de lloguer es situen lleugerament per sobre de les places d'hotel. En canvi, a Tramuntana tots els punts es reparteixen de manera uniforme fins arribar a valors que ronden les 100 places d'hotel i de lloguer turístic per cada 100 habitants.\n",
    "\n",
    "La gràfica de la dreta mostra la diferència entre els municipis de costa i d'interior. A la costa, les places turístiques s'estiren fins a arribar a valors extrems, mentre que a l'interior els punts es concentren a la part baixa de la gràfica. De fet, aquesta divisió permet veure com a l'interior s'hi troben més places de lloguer que d'hotel.\n",
    "\n",
    "Per acabar, es poden resumir els resultats en la seguent taula:"
   ]
  },
  {
   "cell_type": "markdown",
   "metadata": {},
   "source": [
    "| | Llevant | Migjorn | Palma | Pla | Raiguer | Tramuntana |||| Costa | Interior |\n",
    "| --- | --- | --- | --- | --- | --- | --- | --- | --- | --- | --- | --- |\n",
    "| Places hotel per 100 hab. | 95.1 | 51.5 | 12.0 | 52.1 | 20.5 | 69.3 |||| 42.0 | 2.0 |\n",
    "| Places lloguer vac. per 100 hab. | 21.8 | 27.4 | 1.0 | 21.7 | 13.2 | 24.4 |||| 11.6 | 11.2 |\n",
    "| __Places turístiques per 100 hab.__ | 116.9 | 78.9 | 13.0 | 73.8 | 33.7 | 93.7 |||| 53.6 | 13.2 |"
   ]
  },
  {
   "cell_type": "markdown",
   "metadata": {},
   "source": [
    "Només Palma i el Raiguer estan per davall de la mitjana de l'illa (~45 places turístiques per 100 habitants). Destaca l'explotació a la serra de Tramuntana: sense presentar valors extrems que distorsionen la mitjana s'arriba al valor de 94 places per cada 100 habitants.\n",
    "\n",
    "Com era d'esperar, si dividim l'illa entre costa i interior, trobem molta més concentració turística a la costa. La diferència la marca la presencia d'hotels donat que les places de lloguer vacacional son molt similars."
   ]
  },
  {
   "cell_type": "markdown",
   "metadata": {},
   "source": [
    "--------------"
   ]
  },
  {
   "cell_type": "markdown",
   "metadata": {},
   "source": [
    "<div style=\"text-align: right\"> (En cas de voler més detalls, aquí es poden trobar <a href=\"https://github.com/jpalm3r/cases-d-algu\">les dades i el codi</a>).</div>"
   ]
  }
 ],
 "metadata": {
  "kernelspec": {
   "display_name": "Python 3",
   "language": "python",
   "name": "python3"
  },
  "language_info": {
   "codemirror_mode": {
    "name": "ipython",
    "version": 3
   },
   "file_extension": ".py",
   "mimetype": "text/x-python",
   "name": "python",
   "nbconvert_exporter": "python",
   "pygments_lexer": "ipython3",
   "version": "3.7.6"
  }
 },
 "nbformat": 4,
 "nbformat_minor": 4
}
